{
 "cells": [
  {
   "cell_type": "code",
   "execution_count": 1,
   "metadata": {},
   "outputs": [],
   "source": [
    "%load_ext autoreload\n",
    "%autoreload 2\n",
    "\n",
    "import argparse\n",
    "\n",
    "%matplotlib inline\n",
    "import matplotlib.pyplot as plt\n",
    "import numpy as np\n",
    "import torch\n",
    "\n",
    "from importlib.util import find_spec\n",
    "if find_spec(\"text_recognizer\") is None:\n",
    "    import sys\n",
    "    sys.path.append('..')\n",
    "\n",
    "from text_recognizer.data.emnist_lines import EMNISTLines"
   ]
  },
  {
   "cell_type": "code",
   "execution_count": 9,
   "metadata": {},
   "outputs": [
    {
     "output_type": "stream",
     "name": "stdout",
     "text": [
      "EMNISTLinesDataset loading data from HDF5...\n",
      "EMNIST Lines Dataset\n",
      "Min overlap: 0\n",
      "Max overlap: 0\n",
      "Num classes: 83\n",
      "Dims: (1, 28, 448)\n",
      "Output dims: (16, 1)\n",
      "Train/val/test sizes: 10000, 2000, 2000\n",
      "Batch x stats: (torch.Size([128, 1, 28, 448]), torch.float32, tensor(0.), tensor(0.0777), tensor(0.2377), tensor(1.))\n",
      "Batch y stats: (torch.Size([128, 16]), torch.int64, tensor(1), tensor(66))\n",
      "\n",
      "Mapping: ['<B>', '<S>', '<E>', '<P>', '0', '1', '2', '3', '4', '5', '6', '7', '8', '9', 'A', 'B', 'C', 'D', 'E', 'F', 'G', 'H', 'I', 'J', 'K', 'L', 'M', 'N', 'O', 'P', 'Q', 'R', 'S', 'T', 'U', 'V', 'W', 'X', 'Y', 'Z', 'a', 'b', 'c', 'd', 'e', 'f', 'g', 'h', 'i', 'j', 'k', 'l', 'm', 'n', 'o', 'p', 'q', 'r', 's', 't', 'u', 'v', 'w', 'x', 'y', 'z', ' ', '!', '\"', '#', '&', \"'\", '(', ')', '*', '+', ',', '-', '.', '/', ':', ';', '?']\n"
     ]
    }
   ],
   "source": [
    "args = argparse.Namespace(max_length=16, max_overlap=0)\n",
    "dataset = EMNISTLines(args)\n",
    "dataset.prepare_data()\n",
    "dataset.setup()\n",
    "print(dataset)\n",
    "print('Mapping:', dataset.mapping)"
   ]
  },
  {
   "cell_type": "code",
   "execution_count": 3,
   "metadata": {},
   "outputs": [
    {
     "output_type": "stream",
     "name": "stdout",
     "text": [
      "torch.Size([128, 1, 28, 448]) torch.Size([128, 16])\n"
     ]
    }
   ],
   "source": [
    "# Sample batch\n",
    "\n",
    "x, y = next(iter(dataset.train_dataloader()))\n",
    "print(x.shape, y.shape)"
   ]
  },
  {
   "cell_type": "markdown",
   "metadata": {},
   "source": [
    "## Simple network"
   ]
  },
  {
   "cell_type": "code",
   "execution_count": 8,
   "metadata": {},
   "outputs": [
    {
     "output_type": "stream",
     "name": "stdout",
     "text": [
      "torch.Size([128, 83, 16])\n"
     ]
    }
   ],
   "source": [
    "from text_recognizer.models import LineReshapeCNN\n",
    "\n",
    "model = LineReshapeCNN(data_config=dataset.config())\n",
    "pred = model(x)\n",
    "print(pred.shape)\n",
    "\n",
    "# We can take a look at whether our reshaping is correct by returning x in forward()\n",
    "# plt.matshow(x[0].squeeze())\n",
    "# plt.matshow(pred[0, 0])\n",
    "# plt.matshow(pred[0, 1])\n",
    "# plt.matshow(pred[0, 2])\n"
   ]
  },
  {
   "source": [
    "We can train this with\n",
    "\n",
    "```sh\n",
    "python training/run_experiment.py --max_epochs=5 --gpus=1 --num_workers=4 --data_class=EMNISTLines --max_length=16 --max_overlap=0 --model_class=LineReshapeCNN\n",
    "```\n",
    "\n",
    "We can easily get to >90% accuracy."
   ],
   "cell_type": "markdown",
   "metadata": {}
  },
  {
   "cell_type": "markdown",
   "metadata": {},
   "source": [
    "## All-convolutional network"
   ]
  },
  {
   "cell_type": "code",
   "execution_count": 6,
   "metadata": {},
   "outputs": [
    {
     "output_type": "stream",
     "name": "stdout",
     "text": [
      "torch.Size([128, 80, 8])\n"
     ]
    }
   ],
   "source": [
    "from text_recognizer.models import LineCNN\n",
    "\n",
    "model = LineCNN(input_dims=dataset.dims, num_classes=dataset.num_classes)\n",
    "pred = model(x)\n",
    "print(pred.shape)"
   ]
  },
  {
   "source": [
    "We can train this with\n",
    "\n",
    "```sh\n",
    "python training/run_experiment.py --max_epochs=5 --gpus=1 --num_workers=4 --data_class=EMNISTLines --max_length=16 --max_overlap=0 --model_class=LineCNN \n",
    "```\n",
    "\n",
    "We can easily get to >90% accuracy."
   ],
   "cell_type": "markdown",
   "metadata": {}
  }
 ],
 "metadata": {
  "kernelspec": {
   "name": "python3",
   "display_name": "Python 3.6.12 64-bit ('fsdl-text-recognizer-2021': conda)",
   "metadata": {
    "interpreter": {
     "hash": "33e3622f00012dfea2d5a118e7142b80576e0dff20f3a9864884eee8ffa104ad"
    }
   }
  },
  "language_info": {
   "codemirror_mode": {
    "name": "ipython",
    "version": 3
   },
   "file_extension": ".py",
   "mimetype": "text/x-python",
   "name": "python",
   "nbconvert_exporter": "python",
   "pygments_lexer": "ipython3",
   "version": "3.6.12-final"
  }
 },
 "nbformat": 4,
 "nbformat_minor": 4
}